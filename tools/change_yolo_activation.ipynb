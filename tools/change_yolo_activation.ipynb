{
 "cells": [
  {
   "cell_type": "markdown",
   "id": "819dca54",
   "metadata": {},
   "source": [
    "# Change Activation Function of yolov7-tiny"
   ]
  },
  {
   "cell_type": "code",
   "execution_count": 80,
   "id": "5a55d381",
   "metadata": {},
   "outputs": [],
   "source": [
    "import os\n",
    "import torch\n",
    "import torch.nn as nn\n",
    "\n",
    "original_directory = os.getcwd()\n",
    "os.chdir(\"../\")\n",
    "from models.common import Conv\n",
    "os.chdir(original_directory)"
   ]
  },
  {
   "cell_type": "code",
   "execution_count": 81,
   "id": "8cb416c4",
   "metadata": {},
   "outputs": [],
   "source": [
    "original_model = torch.load('../yolov7-tiny.pt', map_location=torch.device('cpu'))\n",
    "\n",
    "act_function = nn.ReLU6(inplace=True)\n",
    "model = original_model['model']\n",
    "os.makedirs('modified', exist_ok=True)"
   ]
  },
  {
   "cell_type": "code",
   "execution_count": 79,
   "id": "d135ce21",
   "metadata": {},
   "outputs": [
    {
     "name": "stdout",
     "output_type": "stream",
     "text": [
      "[-1, 1, 'Conv', [32, 3, 2, 'None', 1, 'nn.ReLU6()']] 0\n",
      "[-1, 1, 'Conv', [64, 3, 2, 'None', 1, 'nn.ReLU6()']] 1\n",
      "[-1, 1, 'Conv', [32, 1, 1, 'None', 1, 'nn.ReLU6()']] 2\n",
      "[-2, 1, 'Conv', [32, 1, 1, 'None', 1, 'nn.ReLU6()']] 3\n",
      "[-1, 1, 'Conv', [32, 3, 1, 'None', 1, 'nn.ReLU6()']] 4\n",
      "[-1, 1, 'Conv', [32, 3, 1, 'None', 1, 'nn.ReLU6()']] 5\n",
      "[-1, 1, 'Conv', [64, 1, 1, 'None', 1, 'nn.ReLU6()']] 7\n",
      "[-1, 1, 'Conv', [64, 1, 1, 'None', 1, 'nn.ReLU6()']] 9\n",
      "[-2, 1, 'Conv', [64, 1, 1, 'None', 1, 'nn.ReLU6()']] 10\n",
      "[-1, 1, 'Conv', [64, 3, 1, 'None', 1, 'nn.ReLU6()']] 11\n",
      "[-1, 1, 'Conv', [64, 3, 1, 'None', 1, 'nn.ReLU6()']] 12\n",
      "[-1, 1, 'Conv', [128, 1, 1, 'None', 1, 'nn.ReLU6()']] 14\n",
      "[-1, 1, 'Conv', [128, 1, 1, 'None', 1, 'nn.ReLU6()']] 16\n",
      "[-2, 1, 'Conv', [128, 1, 1, 'None', 1, 'nn.ReLU6()']] 17\n",
      "[-1, 1, 'Conv', [128, 3, 1, 'None', 1, 'nn.ReLU6()']] 18\n",
      "[-1, 1, 'Conv', [128, 3, 1, 'None', 1, 'nn.ReLU6()']] 19\n",
      "[-1, 1, 'Conv', [256, 1, 1, 'None', 1, 'nn.ReLU6()']] 21\n",
      "[-1, 1, 'Conv', [256, 1, 1, 'None', 1, 'nn.ReLU6()']] 23\n",
      "[-2, 1, 'Conv', [256, 1, 1, 'None', 1, 'nn.ReLU6()']] 24\n",
      "[-1, 1, 'Conv', [256, 3, 1, 'None', 1, 'nn.ReLU6()']] 25\n",
      "[-1, 1, 'Conv', [256, 3, 1, 'None', 1, 'nn.ReLU6()']] 26\n",
      "[-1, 1, 'Conv', [512, 1, 1, 'None', 1, 'nn.ReLU6()']] 28\n",
      "[-1, 1, 'Conv', [256, 1, 1, 'None', 1, 'nn.ReLU6()']] 29\n",
      "[-2, 1, 'Conv', [256, 1, 1, 'None', 1, 'nn.ReLU6()']] 30\n",
      "[-1, 1, 'Conv', [256, 1, 1, 'None', 1, 'nn.ReLU6()']] 35\n",
      "[-1, 1, 'Conv', [256, 1, 1, 'None', 1, 'nn.ReLU6()']] 37\n",
      "[-1, 1, 'Conv', [128, 1, 1, 'None', 1, 'nn.ReLU6()']] 38\n",
      "[21, 1, 'Conv', [128, 1, 1, 'None', 1, 'nn.ReLU6()']] 40\n",
      "[-1, 1, 'Conv', [64, 1, 1, 'None', 1, 'nn.ReLU6()']] 42\n",
      "[-2, 1, 'Conv', [64, 1, 1, 'None', 1, 'nn.ReLU6()']] 43\n",
      "[-1, 1, 'Conv', [64, 3, 1, 'None', 1, 'nn.ReLU6()']] 44\n",
      "[-1, 1, 'Conv', [64, 3, 1, 'None', 1, 'nn.ReLU6()']] 45\n",
      "[-1, 1, 'Conv', [128, 1, 1, 'None', 1, 'nn.ReLU6()']] 47\n",
      "[-1, 1, 'Conv', [64, 1, 1, 'None', 1, 'nn.ReLU6()']] 48\n",
      "[14, 1, 'Conv', [64, 1, 1, 'None', 1, 'nn.ReLU6()']] 50\n",
      "[-1, 1, 'Conv', [32, 1, 1, 'None', 1, 'nn.ReLU6()']] 52\n",
      "[-2, 1, 'Conv', [32, 1, 1, 'None', 1, 'nn.ReLU6()']] 53\n",
      "[-1, 1, 'Conv', [32, 3, 1, 'None', 1, 'nn.ReLU6()']] 54\n",
      "[-1, 1, 'Conv', [32, 3, 1, 'None', 1, 'nn.ReLU6()']] 55\n",
      "[-1, 1, 'Conv', [64, 1, 1, 'None', 1, 'nn.ReLU6()']] 57\n",
      "[-1, 1, 'Conv', [128, 3, 2, 'None', 1, 'nn.ReLU6()']] 58\n",
      "[-1, 1, 'Conv', [64, 1, 1, 'None', 1, 'nn.ReLU6()']] 60\n",
      "[-2, 1, 'Conv', [64, 1, 1, 'None', 1, 'nn.ReLU6()']] 61\n",
      "[-1, 1, 'Conv', [64, 3, 1, 'None', 1, 'nn.ReLU6()']] 62\n",
      "[-1, 1, 'Conv', [64, 3, 1, 'None', 1, 'nn.ReLU6()']] 63\n",
      "[-1, 1, 'Conv', [128, 1, 1, 'None', 1, 'nn.ReLU6()']] 65\n",
      "[-1, 1, 'Conv', [256, 3, 2, 'None', 1, 'nn.ReLU6()']] 66\n",
      "[-1, 1, 'Conv', [128, 1, 1, 'None', 1, 'nn.ReLU6()']] 68\n",
      "[-2, 1, 'Conv', [128, 1, 1, 'None', 1, 'nn.ReLU6()']] 69\n",
      "[-1, 1, 'Conv', [128, 3, 1, 'None', 1, 'nn.ReLU6()']] 70\n",
      "[-1, 1, 'Conv', [128, 3, 1, 'None', 1, 'nn.ReLU6()']] 71\n",
      "[-1, 1, 'Conv', [256, 1, 1, 'None', 1, 'nn.ReLU6()']] 73\n",
      "[57, 1, 'Conv', [128, 3, 1, 'None', 1, 'nn.ReLU6()']] 74\n",
      "[65, 1, 'Conv', [256, 3, 1, 'None', 1, 'nn.ReLU6()']] 75\n",
      "[73, 1, 'Conv', [512, 3, 1, 'None', 1, 'nn.ReLU6()']] 76\n"
     ]
    }
   ],
   "source": [
    "for idx in range(77):\n",
    "    if isinstance(model.model[idx], Conv):\n",
    "        if isinstance(model.model[idx].act, nn.LeakyReLU):\n",
    "            if idx < len(model.yaml['backbone']):\n",
    "                model.yaml['backbone'][idx][-1][-1] = 'nn.ReLU6()'\n",
    "                print(model.yaml['backbone'][idx], idx)\n",
    "            else:\n",
    "                model.yaml['head'][idx-len(model.yaml['backbone'])][-1][-1] = 'nn.ReLU6()'\n",
    "                print(model.yaml['head'][idx-len(model.yaml['backbone'])], idx)\n",
    "            model.model[idx].act = act_function"
   ]
  },
  {
   "cell_type": "code",
   "execution_count": null,
   "id": "11456f03",
   "metadata": {},
   "outputs": [],
   "source": [
    "torch.save(original_model, 'modified/tiny_modified.pt')"
   ]
  }
 ],
 "metadata": {
  "kernelspec": {
   "display_name": "train",
   "language": "python",
   "name": "train"
  },
  "language_info": {
   "codemirror_mode": {
    "name": "ipython",
    "version": 3
   },
   "file_extension": ".py",
   "mimetype": "text/x-python",
   "name": "python",
   "nbconvert_exporter": "python",
   "pygments_lexer": "ipython3",
   "version": "3.8.16"
  }
 },
 "nbformat": 4,
 "nbformat_minor": 5
}
